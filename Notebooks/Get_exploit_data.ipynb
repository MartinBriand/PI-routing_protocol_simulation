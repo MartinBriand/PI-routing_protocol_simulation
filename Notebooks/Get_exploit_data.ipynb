{
 "cells": [
  {
   "cell_type": "markdown",
   "id": "b685dce7-6b1b-4756-9e50-a579b6e72d08",
   "metadata": {},
   "source": [
    "# Imports"
   ]
  },
  {
   "cell_type": "code",
   "execution_count": 1,
   "id": "e3ca4ca8-3097-4796-a0b3-b695c90d2f47",
   "metadata": {},
   "outputs": [],
   "source": [
    "# Libraries\n",
    "import pandas as pd\n",
    "import time\n",
    "import random\n",
    "\n",
    "# Objects\n",
    "from PI_RPS.Mechanics.Environment.environment import Environment\n",
    "from PI_RPS.Mechanics.Actors.Carriers.cost_bidding_carrier import CostBiddingCarrier\n",
    "\n",
    "# Tools\n",
    "from PI_RPS.Games.init_tools import load_realistic_nodes_and_shippers_to_env\n",
    "\n",
    "# Variables\n",
    "from PI_RPS.Games.init_tools import nb_hours_per_time_unit, t_c_mu, t_c_sigma, ffh_c_mu, ffh_c_sigma"
   ]
  },
  {
   "cell_type": "code",
   "execution_count": 2,
   "id": "85c3f8e7-a521-4ff1-a65f-f8b609fccba0",
   "metadata": {},
   "outputs": [],
   "source": [
    "n_carriers_per_node = 15  # @param {type:\"integer\"}\n",
    "\n",
    "shippers_reserve_price_per_distance = 1200.  # @param{type:\"number\"}\n",
    "shipper_default_reserve_price = 20000.  # @param{type:\"number\"}\n",
    "init_node_weights_distance_scaling_factor = 500.  # @param{type:\"number\"}\n",
    "# not used if initialized by artificial weights\n",
    "max_node_weights_distance_scaling_factor = 500. * 1.3  # @param{type:\"number\"}\n",
    "# should be big enough to be unrealistic.\n",
    "node_auction_cost = 0.  # @param{type:\"number\"}\n",
    "node_nb_info = 100  # @param{type:\"integer\"}\n",
    "max_nb_infos_per_load = 15  # @param{type:\"integer\"}\n",
    "\n",
    "max_time_not_at_home = 30  # @param {type:\"integer\"}"
   ]
  },
  {
   "cell_type": "code",
   "execution_count": 3,
   "id": "35d63b07-5e8c-4bd3-96a3-2fc01f0e1b2e",
   "metadata": {},
   "outputs": [],
   "source": [
    "def new_environment():\n",
    "    e = Environment(nb_hours_per_time_unit=nb_hours_per_time_unit,\n",
    "                    max_nb_infos_per_load=max_nb_infos_per_load,\n",
    "                    init_node_weights_distance_scaling_factor=init_node_weights_distance_scaling_factor,\n",
    "                    max_node_weights_distance_scaling_factor=max_node_weights_distance_scaling_factor)\n",
    "\n",
    "    load_realistic_nodes_and_shippers_to_env(e=e,\n",
    "                                             node_nb_info=node_nb_info,\n",
    "                                             shippers_reserve_price_per_distance=shippers_reserve_price_per_distance,\n",
    "                                             shipper_default_reserve_price=shipper_default_reserve_price,\n",
    "                                             node_auction_cost=node_auction_cost,\n",
    "                                             weights_file_name='weights_' + str(node_auction_cost) + '_' + str(n_carriers_per_node) + '.json')\n",
    "\n",
    "    weight_master = e.nodes[0].weight_master\n",
    "\n",
    "    counter = {}\n",
    "    for k in range(n_carriers_per_node * len(e.nodes)):\n",
    "        node = e.nodes[k % len(e.nodes)]\n",
    "        if node in counter.keys():\n",
    "            counter[node] += 1\n",
    "        else:\n",
    "            counter[node] = 1\n",
    "        road_costs = random.normalvariate(mu=t_c_mu, sigma=t_c_sigma)\n",
    "        drivers_costs = random.normalvariate(mu=ffh_c_mu, sigma=ffh_c_sigma)\n",
    "\n",
    "        CostBiddingCarrier(name=node.name + '_' + str(counter[node]),\n",
    "                           home=node,\n",
    "                           in_transit=False,\n",
    "                           next_node=node,\n",
    "                           time_to_go=0,\n",
    "                           load=None,\n",
    "                           environment=e,\n",
    "                           episode_expenses=[],\n",
    "                           episode_revenues=[],\n",
    "                           this_episode_expenses=[],\n",
    "                           this_episode_revenues=0,\n",
    "                           transit_cost=road_costs,\n",
    "                           far_from_home_cost=drivers_costs,\n",
    "                           time_not_at_home=0,\n",
    "                           max_time_not_at_home=max_time_not_at_home,\n",
    "                           t_c_mu=t_c_mu,\n",
    "                           t_c_sigma=t_c_sigma,\n",
    "                           ffh_c_mu=ffh_c_mu,\n",
    "                           ffh_c_sigma=ffh_c_sigma,\n",
    "                           too_high_bid=shipper_default_reserve_price)\n",
    "    return e"
   ]
  },
  {
   "cell_type": "markdown",
   "id": "35808e0f-3ca4-4a3d-bfbe-80603f3e9954",
   "metadata": {},
   "source": [
    "# Data structure"
   ]
  },
  {
   "cell_type": "markdown",
   "id": "ab97c154-b379-42bc-8937-12ea7fc8015d",
   "metadata": {},
   "source": [
    "# Loop"
   ]
  },
  {
   "cell_type": "code",
   "execution_count": 22,
   "id": "ed890ba1-912c-4bf8-b995-2b8cb92aadaa",
   "metadata": {},
   "outputs": [],
   "source": [
    "carriers_cols = ['run_id', 'name', 'home', 't_c', 'ffh_c', 'profit', 'nb_time_step']\n",
    "loads_cols = ['run_id', 'load_id', 'departure', 'arrival', 'is_arrived', 'is_discarded', 'in_transit']\n",
    "movements_cols = ['run_id', 'load_id', 'step', 'origin', 'destination', 'carrier', 'cost', 'reserve_price_involved']\n",
    "carriers_df = pd.DataFrame(columns=carriers_cols)\n",
    "loads_df = pd.DataFrame(columns=loads_cols)\n",
    "movements_df = pd.DataFrame(columns=movements_cols)"
   ]
  },
  {
   "cell_type": "code",
   "execution_count": 23,
   "id": "45139c3f-096c-40d3-8af8-e9d68d3d76d7",
   "metadata": {},
   "outputs": [],
   "source": [
    "def run(e, nb_iter_per_run, run_number):\n",
    "    # Running environment\n",
    "    for _ in range(nb_iter_per_run):\n",
    "        e.iteration()\n",
    "\n",
    "    # Getting data\n",
    "    carriers_data = []\n",
    "    for carrier_p in e.carriers:\n",
    "        if len(carrier_p.episode_revenues) > 1:\n",
    "            carriers_data.append([run_number, carrier_p.name,\n",
    "                                  carrier_p.home.name,\n",
    "                                  carrier_p.t_c,\n",
    "                                  carrier_p.ffh_c,\n",
    "                                  sum(carrier_p.episode_revenues[1:]) + sum(carrier_p.episode_expenses[1:]),\n",
    "                                  nb_iter_per_run])\n",
    "        else:\n",
    "            carriers_data.append([run_number,\n",
    "                                  carrier_p.name,\n",
    "                                  carrier_p.home.name,\n",
    "                                  carrier_p.t_c,\n",
    "                                  carrier_p.ffh_c,\n",
    "                                  0.,\n",
    "                                  nb_iter_per_run])\n",
    "            \n",
    "    new_carriers_df = pd.DataFrame(columns=carriers_cols, data=carriers_data)\n",
    "    \n",
    "    loads_data = []\n",
    "    movements_data = []\n",
    "    loads = e.loads\n",
    "    for load_p_k in range(len(loads)):\n",
    "        load_p = loads[load_p_k]\n",
    "        movements = load_p.movements\n",
    "        loads_data.append([run_number,\n",
    "                           load_p_k,\n",
    "                           load_p.departure.name,\n",
    "                           load_p.arrival.name,\n",
    "                           load_p.is_arrived,\n",
    "                           load_p.is_discarded,\n",
    "                           load_p.in_transit\n",
    "                          ])\n",
    "        \n",
    "        for step_k in range(len(movements)):\n",
    "            movement = movements[step_k]\n",
    "            movements_data.append([run_number,\n",
    "                               load_p_k,\n",
    "                               step_k,\n",
    "                               movement[0].name,\n",
    "                               movement[1].name,\n",
    "                               movement[2].name,\n",
    "                               movement[3] + movement[4],\n",
    "                               movement[5]  # this sould be the involvment of reserve price in the movement\n",
    "                              ])\n",
    "            \n",
    "    \n",
    "    \n",
    "    new_loads_df = pd.DataFrame(columns=loads_cols, data=loads_data)\n",
    "    new_movements_df = pd.DataFrame(columns=movements_cols, data=movements_data)\n",
    "    return new_carriers_df, new_loads_df, new_movements_df"
   ]
  },
  {
   "cell_type": "code",
   "execution_count": 24,
   "id": "9f2f0411-cd75-403a-8013-7269a1d9a529",
   "metadata": {},
   "outputs": [
    {
     "name": "stdout",
     "output_type": "stream",
     "text": [
      "Total time: 0h0m8s\n"
     ]
    }
   ],
   "source": [
    "nb_loop = 2\n",
    "nb_iteration_per_run = 500\n",
    "start_time = time.time()\n",
    "\n",
    "for k in range(nb_loop):\n",
    "    e = new_environment()\n",
    "    new_carriers_df, new_loads_df, new_movements_df = run(e=e,\n",
    "                                                          nb_iter_per_run=nb_iteration_per_run,\n",
    "                                                          run_number=k)\n",
    "    \n",
    "    carriers_df = pd.concat(objs=[carriers_df, new_carriers_df], ignore_index=True)\n",
    "    loads_df = pd.concat(objs=[loads_df, new_loads_df], ignore_index=True)\n",
    "    movements_df = pd.concat(objs=[movements_df, new_movements_df], ignore_index=True)\n",
    "\n",
    "end_time = time.time()\n",
    "delta = int(end_time - start_time)\n",
    "delta_h = delta // 3600\n",
    "delta_m = (delta % 3600) // 60\n",
    "delta_s = (delta % 3600) % 60\n",
    "print(\"Total time:\", \"{}h{}m{}s\".format(delta_h, delta_m, delta_s))"
   ]
  },
  {
   "cell_type": "code",
   "execution_count": null,
   "id": "851b064e-dd08-4080-9f9c-58288d1a45c4",
   "metadata": {},
   "outputs": [],
   "source": []
  }
 ],
 "metadata": {
  "kernelspec": {
   "display_name": "Python 3",
   "language": "python",
   "name": "python3"
  },
  "language_info": {
   "codemirror_mode": {
    "name": "ipython",
    "version": 3
   },
   "file_extension": ".py",
   "mimetype": "text/x-python",
   "name": "python",
   "nbconvert_exporter": "python",
   "pygments_lexer": "ipython3",
   "version": "3.8.5"
  }
 },
 "nbformat": 4,
 "nbformat_minor": 5
}
