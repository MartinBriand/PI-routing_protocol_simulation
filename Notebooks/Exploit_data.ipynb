{
 "cells": [
  {
   "cell_type": "markdown",
   "id": "3bfa9980-7227-4ce6-85a7-11d0718269d5",
   "metadata": {},
   "source": [
    "# Import"
   ]
  },
  {
   "cell_type": "code",
   "execution_count": 1,
   "id": "f1abfce5-23a7-4895-be2d-9a4b9da29063",
   "metadata": {},
   "outputs": [],
   "source": [
    "import pandas as pd\n",
    "import pickle\n",
    "import os"
   ]
  },
  {
   "cell_type": "markdown",
   "id": "5db86c08-260b-4e01-8fea-73f34234cd8a",
   "metadata": {},
   "source": [
    "# Load data\n",
    "## Loading"
   ]
  },
  {
   "cell_type": "code",
   "execution_count": 2,
   "id": "bff094bf-f3bb-4ad8-a17a-f9d1284e6647",
   "metadata": {},
   "outputs": [],
   "source": [
    "n_carriers_per_node = 30\n",
    "node_auction_cost = 0."
   ]
  },
  {
   "cell_type": "code",
   "execution_count": 3,
   "id": "1a7a1348-8321-466c-9929-49b60d66397b",
   "metadata": {},
   "outputs": [],
   "source": [
    "path = os.path.join(os.getcwd(), 'Data_analysis')\n",
    "\n",
    "carriers_file_name = 'carriers_df_' + str(node_auction_cost) + '_' + str(n_carriers_per_node) + '.bin'\n",
    "loads_file_name = 'loads_df_' + str(node_auction_cost) + '_' + str(n_carriers_per_node) + '.bin'\n",
    "movements_file_name = 'movements_df_' + str(node_auction_cost) + '_' + str(n_carriers_per_node) + '.bin'\n",
    "\n",
    "with open(os.path.join(path, carriers_file_name), 'rb') as f:\n",
    "    carriers_df = pickle.load(f)\n",
    "with open(os.path.join(path, loads_file_name), 'rb') as f:\n",
    "    loads_df = pickle.load(f)\n",
    "with open(os.path.join(path, movements_file_name), 'rb') as f:\n",
    "    movements_df = pickle.load(f)\n",
    "    \n",
    "carriers_df['name'] = carriers_df.name.apply(lambda x: x.split('_')[-1]).astype('int64')\n",
    "carriers_df.set_index(keys=['run_id', 'home', 'name'], inplace=True)\n",
    "carriers_df.sort_index(inplace=True)\n",
    "loads_df.set_index(keys=['run_id', 'load_id'], inplace=True)\n",
    "loads_df.sort_index(inplace=True)\n",
    "movements_df.set_index(keys=['run_id', 'load_id', 'step'], inplace=True)\n",
    "movements_df.sort_index(inplace=True)"
   ]
  },
  {
   "cell_type": "code",
   "execution_count": 4,
   "id": "03246443-5c75-4569-804c-2cb1c600e44a",
   "metadata": {},
   "outputs": [],
   "source": [
    "path = os.path.join(os.getcwd(), '../PI_RPS/Games/data')\n",
    "distances = pd.read_csv(os.path.join(path, 'city_distance_matrix_time_step.csv'), index_col=0)"
   ]
  },
  {
   "cell_type": "markdown",
   "id": "99a74266-d06c-4de5-a1b9-5ed5a77a03a4",
   "metadata": {},
   "source": [
    "## Preparing data"
   ]
  },
  {
   "cell_type": "code",
   "execution_count": 32,
   "id": "e5f7fcdd-0264-4449-b02d-413665e77909",
   "metadata": {},
   "outputs": [],
   "source": [
    "loads_df['direct_distance'] = loads_df.apply(lambda x: distances.loc[x.departure, x.arrival], axis=1)\n",
    "movements_df['distance'] = movements_df.apply(lambda x: distances.loc[x.origin, x.destination], axis=1)\n",
    "\n",
    "movements_df['carrier_home'] = movements_df.carrier.apply(lambda x: x.split('_')[0])\n",
    "\n",
    "movements_df_grouped = movements_df.groupby(['run_id', 'load_id'])\n",
    "\n",
    "loads_df['route'] = movements_df_grouped['destination'].agg(list).apply(lambda x: '-'.join(x))\n",
    "loads_df['route'] = loads_df.departure + '-' + loads_df.route\n",
    "\n",
    "loads_df['nb_hops'] = movements_df_grouped.count().origin.rename('nb_hops')\n",
    "loads_df['nb_hops'].fillna(-1, inplace=True)\n",
    "loads_df['nb_hops'] = loads_df['nb_hops'].astype('int64')\n",
    "\n",
    "loads_df['total_distance'] = movements_df_grouped['distance'].sum()\n",
    "loads_df['total_distance'].fillna(-1, inplace=True)\n",
    "loads_df['total_distance'] = loads_df['total_distance'].astype('int64')\n",
    "\n",
    "loads_df['total_price'] = movements_df_grouped['price'].sum()\n",
    "\n",
    "loads_df['nb_reserve_price_involved'] = movements_df.reserve_price_involved.astype('int64').groupby(['run_id', 'load_id']).sum()\n",
    "loads_df['nb_reserve_price_involved'].fillna(-1, inplace=True)\n",
    "loads_df['nb_reserve_price_involved'] = loads_df['nb_reserve_price_involved'].astype('int64')\n",
    "\n",
    "loads_df_filtered = loads_df.loc[(loads_df.nb_reserve_price_involved == 0) & (loads_df.direct_distance <= loads_df.total_distance)]"
   ]
  },
  {
   "cell_type": "markdown",
   "id": "4a11fbf3-d2b9-4280-9520-9fb401d968c6",
   "metadata": {},
   "source": [
    "# Analysis\n",
    "## Sanity check for involvement of reserve price\n",
    "We want lower than 0.5%"
   ]
  },
  {
   "cell_type": "code",
   "execution_count": 10,
   "id": "0dbcbbf1-6e56-462e-aec2-31512509ef5f",
   "metadata": {},
   "outputs": [
    {
     "name": "stdout",
     "output_type": "stream",
     "text": [
      "Reserve price is involved in 0.1% of the movements\n",
      "Reserve price is involved in 0.1% of the loads\n"
     ]
    }
   ],
   "source": [
    "rp_involved_in_mvmts_count = movements_df.groupby('reserve_price_involved').count()\n",
    "perc_rp_involved_in_mvmts = rp_involved_in_mvmts_count.loc[True, 'origin'] / rp_involved_in_mvmts_count.origin.sum()\n",
    "print(\"Reserve price is involved in {}% of the movements\".format(round(perc_rp_involved_in_mvmts*100, 1)))\n",
    "\n",
    "rp_involved_in_loads = 1-(loads_df_filtered.departure.count() / loads_df.loc[(loads_df.nb_reserve_price_involved >= 0) & (loads_df.direct_distance <= loads_df.total_distance)].departure.count())\n",
    "print(\"Reserve price is involved in {}% of the loads\".format(round(rp_involved_in_loads*100, 1)))"
   ]
  },
  {
   "cell_type": "markdown",
   "id": "33384eac-8493-4754-bd5e-b82cdb01128c",
   "metadata": {},
   "source": [
    "## Carriers\n",
    "### Concentration at nodes"
   ]
  },
  {
   "cell_type": "code",
   "execution_count": 34,
   "id": "78e6d853-6e00-47f6-8268-5886f4807416",
   "metadata": {},
   "outputs": [
    {
     "name": "stdout",
     "output_type": "stream",
     "text": [
      "next_node\n",
      "Bremen         0.082121\n",
      "Dresden        0.103939\n",
      "Madrid         0.089697\n",
      "Marseille      0.085152\n",
      "Milan          0.107576\n",
      "Naples         0.090000\n",
      "Paris          0.111818\n",
      "Rotterdam      0.059394\n",
      "Saarbrücken    0.098788\n",
      "Salzburg       0.080000\n",
      "Warsaw         0.091515\n",
      "Name: t_c, dtype: float64\n",
      "home           Bremen   Dresden    Madrid  Marseille     Milan    Naples  \\\n",
      "next_node                                                                  \n",
      "Bremen       0.095941  0.201166  0.000000   0.003559  0.022535  0.000000   \n",
      "Dresden      0.291513  0.055394  0.000000   0.000000  0.014085  0.000000   \n",
      "Madrid       0.000000  0.002915  0.736486   0.245552  0.000000  0.006734   \n",
      "Marseille    0.007380  0.002915  0.277027   0.195730  0.078873  0.013468   \n",
      "Milan        0.007380  0.014577  0.000000   0.170819  0.076056  0.521886   \n",
      "Naples       0.003690  0.000000  0.000000   0.017794  0.425352  0.430976   \n",
      "Paris        0.055351  0.037901  0.000000   0.423488  0.008451  0.006734   \n",
      "Rotterdam    0.239852  0.087464  0.000000   0.003559  0.011268  0.003367   \n",
      "Saarbrücken  0.291513  0.081633  0.000000   0.003559  0.078873  0.010101   \n",
      "Salzburg     0.088561  0.201166  0.000000   0.003559  0.129577  0.016835   \n",
      "Warsaw       0.025830  0.189504  0.000000   0.000000  0.000000  0.000000   \n",
      "\n",
      "home            Paris  Rotterdam  Saarbrücken  Salzburg    Warsaw  \n",
      "next_node                                                          \n",
      "Bremen       0.048780   0.367347     0.174847  0.049242  0.023179  \n",
      "Dresden      0.021680   0.214286     0.107362  0.352273  0.205298  \n",
      "Madrid       0.010840   0.005102     0.003067  0.000000  0.000000  \n",
      "Marseille    0.276423   0.015306     0.006135  0.007576  0.000000  \n",
      "Milan        0.010840   0.015306     0.138037  0.250000  0.000000  \n",
      "Naples       0.005420   0.015306     0.015337  0.007576  0.000000  \n",
      "Paris        0.135501   0.566327     0.138037  0.041667  0.000000  \n",
      "Rotterdam    0.151762   0.071429     0.067485  0.011364  0.000000  \n",
      "Saarbrücken  0.130081   0.198980     0.076687  0.272727  0.009934  \n",
      "Salzburg     0.018970   0.056122     0.184049  0.125000  0.026490  \n",
      "Warsaw       0.002710   0.005102     0.009202  0.018939  0.728477  \n"
     ]
    }
   ],
   "source": [
    "nb_carriers = carriers_df['t_c'].count()\n",
    "carriers_concentration = carriers_df.groupby('next_node')['t_c'].count()\n",
    "carriers_concentration_prop = carriers_concentration / nb_carriers\n",
    "carriers_concentration_origin = carriers_df.pivot_table(index='next_node', columns='home', values='t_c', aggfunc='count', fill_value=0)\n",
    "carriers_concentration_origin_prop = carriers_concentration_origin / carriers_concentration_origin.sum(axis=1)\n",
    "\n",
    "print(carriers_concentration_prop)\n",
    "print(carriers_concentration_origin_prop)"
   ]
  },
  {
   "cell_type": "markdown",
   "id": "bc5da7d6-59d6-4c98-963e-dd0ff603c43e",
   "metadata": {},
   "source": [
    "I am not sure whether or not there are a lot of things to understand from this, just that extreme nodes tend to keep their carriers at home while it is easier for the other to have carriers waiting abroad.\n",
    "\n",
    "I would expect that extreme nodes can make less profit because of less operations"
   ]
  },
  {
   "cell_type": "markdown",
   "id": "c2a71fad-d233-48e7-9619-3bef95bb529f",
   "metadata": {},
   "source": [
    "### Profit and who operate\n",
    "#### Tables"
   ]
  },
  {
   "cell_type": "code",
   "execution_count": 50,
   "id": "518d4936-0a41-4966-86b3-7e2fcbd27182",
   "metadata": {},
   "outputs": [
    {
     "name": "stdout",
     "output_type": "stream",
     "text": [
      "count    3300.000000\n",
      "mean      121.475606\n",
      "std        48.948217\n",
      "min         0.000000\n",
      "25%       112.637157\n",
      "50%       138.111769\n",
      "75%       149.464100\n",
      "max       256.145890\n",
      "Name: profit, dtype: float64\n",
      "             count        mean        std         min         25%         50%  \\\n",
      "home                                                                            \n",
      "Bremen       300.0  151.684981  20.999890  106.670780  137.200979  146.498289   \n",
      "Dresden      300.0  147.453420  14.660949  120.211933  139.261421  144.224359   \n",
      "Madrid       300.0   51.643435  59.092877    0.000000    0.000000   22.997584   \n",
      "Marseille    300.0  123.014671  33.883063   25.312968  109.667111  132.513295   \n",
      "Milan        300.0  136.270181  15.649447   62.118868  128.352275  138.310973   \n",
      "Naples       300.0   95.958680  46.541513    0.000000   59.780201  103.883791   \n",
      "Paris        300.0  135.339162  21.456040   67.142479  122.267468  135.733217   \n",
      "Rotterdam    300.0  149.118568  16.282586  118.697163  138.922584  145.189301   \n",
      "Saarbrücken  300.0  149.929444  12.830659  126.103463  141.965925  146.816911   \n",
      "Salzburg     300.0  137.391368  24.546172   64.034181  122.020231  137.398951   \n",
      "Warsaw       300.0   58.427759  62.132938    0.000000    0.000000   38.396304   \n",
      "\n",
      "                    75%         max  \n",
      "home                                 \n",
      "Bremen       162.088307  256.145890  \n",
      "Dresden      151.802741  249.948139  \n",
      "Madrid       104.047900  225.849579  \n",
      "Marseille    147.304824  170.491962  \n",
      "Milan        146.250949  195.156559  \n",
      "Naples       131.078369  199.049513  \n",
      "Paris        149.690813  188.190663  \n",
      "Rotterdam    154.761149  232.670152  \n",
      "Saarbrücken  155.246937  243.592911  \n",
      "Salzburg     151.547334  219.373760  \n",
      "Warsaw       113.252664  236.068109  \n",
      "count    3078.000000\n",
      "mean       23.835932\n",
      "std        12.867139\n",
      "min         1.000000\n",
      "25%        18.000000\n",
      "50%        22.000000\n",
      "75%        27.000000\n",
      "max        96.000000\n",
      "Name: origin, dtype: float64\n",
      "              count                                                      \n",
      "              count       mean        std   min    25%   50%    75%   max\n",
      "carrier_home                                                             \n",
      "Bremen        300.0  29.553333  12.223141  16.0  21.00  24.0  35.00  88.0\n",
      "Dresden       300.0  24.970000   7.297943  17.0  20.00  23.0  26.25  57.0\n",
      "Madrid        179.0  12.938547  13.752696   1.0   4.00  11.0  16.00  96.0\n",
      "Marseille     300.0  18.020000   7.442057   3.0  14.00  17.0  21.00  50.0\n",
      "Milan         300.0  22.806667   5.933519  11.0  19.00  22.0  25.00  55.0\n",
      "Naples        298.0  19.191275  16.366396   1.0   9.00  16.0  22.00  89.0\n",
      "Paris         300.0  25.460000  10.644219   9.0  18.00  22.0  29.00  65.0\n",
      "Rotterdam     300.0  28.236667  11.691434  17.0  21.00  24.0  30.00  74.0\n",
      "Saarbrücken   300.0  27.460000   9.426093  16.0  22.00  24.0  30.00  67.0\n",
      "Salzburg      300.0  27.193333  13.006146   9.0  18.75  23.0  32.00  81.0\n",
      "Warsaw        201.0  21.004975  21.536596   1.0   5.00  13.0  29.00  93.0\n"
     ]
    }
   ],
   "source": [
    "general_profit = carriers_df.profit / 500\n",
    "\n",
    "profit_home = carriers_df.groupby('home')['profit'].describe() / 500\n",
    "profit_home['count'] = 500*profit_home['count']\n",
    "\n",
    "general_operations = movements_df.groupby(['carrier', 'run_id'])['origin'].count()\n",
    "#add 0 for the others\n",
    "operations_home = movements_df.groupby(['carrier', 'run_id'])[['carrier_home']].first()\n",
    "operations_home['count'] = general_operations\n",
    "operations_home = operations_home.groupby('carrier_home').describe()\n",
    "\n",
    "#profit per operation\n",
    "#profit per operation_home\n",
    "\n",
    "print(general_profit.describe())\n",
    "print(profit_home)\n",
    "print(general_operations.describe())\n",
    "print(operations_home)"
   ]
  },
  {
   "cell_type": "markdown",
   "id": "b9bccf00-a92b-413c-aebe-afbf944c6db1",
   "metadata": {},
   "source": [
    "#### Graphs"
   ]
  },
  {
   "cell_type": "code",
   "execution_count": 51,
   "id": "59b27aeb-6296-4f54-a4d8-2b58e5c0caa8",
   "metadata": {},
   "outputs": [],
   "source": [
    "# same as before but replace home by costs"
   ]
  },
  {
   "cell_type": "markdown",
   "id": "4e5b198e-fa35-4066-973c-488fd01378a8",
   "metadata": {},
   "source": [
    "## Loads"
   ]
  },
  {
   "cell_type": "code",
   "execution_count": 13,
   "id": "6899819f-f83a-4421-8b91-b72edd81114d",
   "metadata": {},
   "outputs": [
    {
     "name": "stdout",
     "output_type": "stream",
     "text": [
      "   total_distance  total_price  nb_info  price_per_distance\n",
      "0               1   241.961026    39964          241.961026\n",
      "1               2   436.908262     8570          218.454131\n",
      "2               3   553.561145     2100          184.520382\n",
      "3               4   847.983041     1335          211.995760\n",
      "4               5  1067.089052      596          213.417810\n",
      "5               6   920.378443       96          153.396407\n",
      "6               7  1079.880958       51          154.268708\n",
      "7               8   997.754555        9          124.719319\n",
      "8               9   903.167861        4          100.351985\n",
      "   direct_distance  total_price  nb_info  price_per_distance\n",
      "0                1   242.478252    41630          242.478252\n",
      "1                2   471.431433     8046          235.715716\n",
      "2                3   664.402901     1276          221.467634\n",
      "3                4   921.878835     1194          230.469709\n",
      "4                5  1137.762239      548          227.552448\n",
      "5                7  1325.022515       31          189.288931\n"
     ]
    }
   ],
   "source": [
    "price_per_total_distance = loads_df_filtered.groupby('total_distance')['total_price'].agg(['mean', 'count']).rename({'mean': 'total_price', 'count': 'nb_info'}, axis=1).reset_index()\n",
    "price_per_total_distance['price_per_distance'] = price_per_total_distance.total_price / price_per_total_distance.total_distance\n",
    "\n",
    "price_per_direct_distance = loads_df_filtered.groupby('direct_distance')['total_price'].agg(['mean', 'count']).rename({'mean': 'total_price', 'count': 'nb_info'}, axis=1).reset_index()\n",
    "price_per_direct_distance['price_per_distance'] = price_per_direct_distance.total_price / price_per_direct_distance.direct_distance\n",
    "\n",
    "print(price_per_total_distance)\n",
    "print(price_per_direct_distance)"
   ]
  },
  {
   "cell_type": "markdown",
   "id": "2be88a0d-cec6-4334-8283-25b3000ae93f",
   "metadata": {},
   "source": [
    "We see that price per total distance can be very low, this is because of loads being on trucks going home for almost free (see (3,312)).\n",
    "\n",
    "However, the price per direct distance goes down but not much This is because they have more oportunities to take advantage of the previously described phenomenon (see (4,1984))."
   ]
  },
  {
   "cell_type": "code",
   "execution_count": 14,
   "id": "c171bda2-65e7-4eff-a781-ee572f508966",
   "metadata": {},
   "outputs": [
    {
     "name": "stdout",
     "output_type": "stream",
     "text": [
      "                   count      mean       std  min  25%  50%  75%  max\n",
      "direct_distance                                                      \n",
      "1                41630.0  1.040740  0.201778  1.0  1.0  1.0  1.0  4.0\n",
      "2                 8046.0  1.952026  0.486420  1.0  2.0  2.0  2.0  5.0\n",
      "3                 1276.0  2.492947  0.588075  1.0  2.0  2.0  3.0  5.0\n",
      "4                 1194.0  3.064489  0.448556  1.0  3.0  3.0  3.0  6.0\n",
      "5                  548.0  3.978102  0.494462  1.0  4.0  4.0  4.0  6.0\n",
      "7                   31.0  4.870968  1.231312  1.0  4.5  5.0  6.0  6.0\n"
     ]
    }
   ],
   "source": [
    "nb_hops_per_direct_distance = loads_df_filtered.groupby('direct_distance')['nb_hops'].describe()\n",
    "\n",
    "print(nb_hops_per_direct_distance)"
   ]
  },
  {
   "cell_type": "markdown",
   "id": "00b72802-2c88-4aab-b899-51e9b850fcd8",
   "metadata": {},
   "source": [
    "Looks like it works well in doing the routing"
   ]
  },
  {
   "cell_type": "code",
   "execution_count": 20,
   "id": "e325ced0-6e6f-4edc-bf2e-e2fc230c5f68",
   "metadata": {},
   "outputs": [
    {
     "name": "stdout",
     "output_type": "stream",
     "text": [
      "22.1 % of the routes are complex routes\n"
     ]
    }
   ],
   "source": [
    "most_used_routes = loads_df_filtered.groupby('route')['total_price'].agg(['count', 'mean']).sort_values(by='count', ascending=False).rename({'mean': 'mean_price'}, axis=1)\n",
    "most_used_complex_routes = loads_df_filtered.loc[loads_df_filtered.nb_hops > 1].groupby('route')['total_price'].agg(['count', 'mean']).sort_values(by='count', ascending=False).rename({'mean': 'mean_price'}, axis=1)\n",
    "perce_complex_routes = most_used_complex_routes['count'].sum() / most_used_routes['count'].sum()\n",
    "\n",
    "print(\"{} % of the routes are complex routes\".format(round(perce_complex_routes*100, 1)))"
   ]
  },
  {
   "cell_type": "code",
   "execution_count": 21,
   "id": "2f9010c5-e71e-4d4f-8638-778b4a8f5114",
   "metadata": {},
   "outputs": [
    {
     "name": "stdout",
     "output_type": "stream",
     "text": [
      "                        count         mean         std          min  \\\n",
      "departure arrival                                                     \n",
      "Bremen    Dresden      1924.0   249.742662   60.920671     0.000000   \n",
      "          Madrid        206.0  1201.872372  169.584151   562.699648   \n",
      "          Marseille      88.0   712.570901  130.922105   365.722159   \n",
      "          Milan         458.0   505.825901   85.546953   176.569084   \n",
      "          Naples         17.0   668.342688  127.503765   430.964941   \n",
      "...                       ...          ...         ...          ...   \n",
      "Warsaw    Naples          1.0  1007.683030         NaN  1007.683030   \n",
      "          Paris          12.0   732.816519   98.211882   562.821759   \n",
      "          Rotterdam      27.0   408.066227   65.437961   249.149816   \n",
      "          Saarbrücken    54.0   413.842284   69.305469   218.032532   \n",
      "          Salzburg      213.0   419.518209   77.240981   168.652049   \n",
      "\n",
      "                               25%          50%          75%          max  \n",
      "departure arrival                                                          \n",
      "Bremen    Dresden       205.583565   247.470848   301.359249   406.692532  \n",
      "          Madrid       1117.378210  1226.094168  1317.327949  1512.612066  \n",
      "          Marseille     653.154563   727.889819   799.531174   992.073310  \n",
      "          Milan         448.314208   511.556965   564.300079   743.039975  \n",
      "          Naples        605.880156   655.080187   749.172030   898.485695  \n",
      "...                            ...          ...          ...          ...  \n",
      "Warsaw    Naples       1007.683030  1007.683030  1007.683030  1007.683030  \n",
      "          Paris         689.346964   744.349567   795.365633   900.825257  \n",
      "          Rotterdam     376.053397   425.653669   440.446774   532.949017  \n",
      "          Saarbrücken   390.338901   415.245681   458.567076   546.023436  \n",
      "          Salzburg      388.211297   420.738726   477.224448   533.347805  \n",
      "\n",
      "[105 rows x 8 columns]\n",
      "                        count      mean       std  min   25%  50%   75%  max\n",
      "departure arrival                                                           \n",
      "Bremen    Dresden      1924.0  1.059252  0.244806  1.0  1.00  1.0  1.00  4.0\n",
      "          Madrid        206.0  3.956311  0.410869  1.0  4.00  4.0  4.00  5.0\n",
      "          Marseille      88.0  2.965909  0.182503  2.0  3.00  3.0  3.00  3.0\n",
      "          Milan         458.0  2.141921  0.485625  1.0  2.00  2.0  2.00  5.0\n",
      "          Naples         17.0  4.117647  0.696631  3.0  4.00  4.0  4.00  6.0\n",
      "...                       ...       ...       ...  ...   ...  ...   ...  ...\n",
      "Warsaw    Naples          1.0  6.000000       NaN  6.0  6.00  6.0  6.00  6.0\n",
      "          Paris          12.0  3.916667  1.164500  2.0  3.75  4.0  4.25  6.0\n",
      "          Rotterdam      27.0  2.518519  0.642733  1.0  2.00  3.0  3.00  3.0\n",
      "          Saarbrücken    54.0  2.777778  0.501570  1.0  3.00  3.0  3.00  3.0\n",
      "          Salzburg      213.0  2.009390  0.194029  1.0  2.00  2.0  2.00  3.0\n",
      "\n",
      "[105 rows x 8 columns]\n"
     ]
    }
   ],
   "source": [
    "price_per_departure_destination = loads_df_filtered.groupby(['departure', 'arrival'])['total_price'].describe()\n",
    "hops_per_departure_destination = loads_df_filtered.groupby(['departure', 'arrival'])['nb_hops'].describe()\n",
    "\n",
    "print(price_per_departure_destination)\n",
    "print(hops_per_departure_destination)"
   ]
  },
  {
   "cell_type": "code",
   "execution_count": null,
   "id": "04dc1226-d64f-43b4-824e-7d86153530bd",
   "metadata": {},
   "outputs": [],
   "source": []
  }
 ],
 "metadata": {
  "kernelspec": {
   "display_name": "Python 3",
   "language": "python",
   "name": "python3"
  },
  "language_info": {
   "codemirror_mode": {
    "name": "ipython",
    "version": 3
   },
   "file_extension": ".py",
   "mimetype": "text/x-python",
   "name": "python",
   "nbconvert_exporter": "python",
   "pygments_lexer": "ipython3",
   "version": "3.8.5"
  }
 },
 "nbformat": 4,
 "nbformat_minor": 5
}
